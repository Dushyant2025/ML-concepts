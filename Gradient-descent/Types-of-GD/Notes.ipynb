{
 "cells": [
  {
   "cell_type": "code",
   "execution_count": null,
   "id": "d15fd58d-a324-46ee-9575-52068bccd76b",
   "metadata": {},
   "outputs": [],
   "source": [
    "# | **Type**                               | **Description**                               | **When to Use**                                                     | **Pros**                                                                               | **Cons**                                                                            |\n",
    "# | -------------------------------------- | --------------------------------------------- | ------------------------------------------------------------------- | -------------------------------------------------------------------------------------- | ----------------------------------------------------------------------------------- |\n",
    "# | **Batch Gradient Descent (BGD)**       | Uses **all training samples** in every update | ✅ When data is **small to medium size** and fits in memory          | ✅ Stable convergence<br>✅ True gradient<br>✅ Deterministic result                      | ❌ Slow for large data<br>❌ Needs all data loaded                                    |\n",
    "# | **Stochastic Gradient Descent (SGD)**  | Uses **one random sample** per update         | ✅ When data is **very large** or **streaming**<br>✅ Online learning | ✅ Fast updates<br>✅ Works well for non-convex functions (NNs)<br>✅ Learns continuously | ❌ High variance in updates<br>❌ Noisy convergence<br>❌ Harder to tune learning rate |\n",
    "# | **Mini-Batch Gradient Descent (MBGD)** | Uses **small batches (e.g. 32–512 samples)**  | ✅ Best for **large datasets and deep learning**                     | ✅ Combines speed + stability<br>✅ Works best with GPU/TPU<br>✅ Efficient memory use    | ❌ Still needs batch tuning<br>❌ Slightly noisy                                      |\n"
   ]
  },
  {
   "cell_type": "code",
   "execution_count": null,
   "id": "098bb2d8-4baa-47ea-95ac-3ec777b2d518",
   "metadata": {},
   "outputs": [],
   "source": [
    "# | **Algorithm**                                  | **Typical Optimizer Used**                                         | **Why**                                                                        |\n",
    "# | ---------------------------------------------- | ------------------------------------------------------------------ | ------------------------------------------------------------------------------ |\n",
    "# | **Linear Regression**                          | OLS (closed form) for small data<br>GD/SGD/MBGD for large data     | If data fits in memory, OLS is exact. Otherwise, GD-based methods scale better |\n",
    "# | **Logistic Regression**                        | SGD / MBGD                                                         | No closed form; uses iterative optimization                                    |\n",
    "# | **SVM**                                        | SGD / Coordinate Descent                                           | To handle large feature sets efficiently                                       |\n",
    "# | **Neural Networks (ANN, CNN, RNN, etc.)**      | MBGD (always) + advanced variants (Adam, RMSProp, etc.)            | Mini-batches balance computation & stability                                   |\n",
    "# | **K-Means**                                    | Not GD-based but similar iterative update (centroid recalculation) | —                                                                              |\n",
    "# | **Decision Trees / Random Forest / XGBoost**   | Not GD-based (greedy splitting / boosting)                         | —                                                                              |\n",
    "# | **Linear SVM / Logistic Regression (sklearn)** | Uses **variants of GD (like LBFGS or SGD)** internally             | To converge to optimal hyperplane / coefficients                               |\n"
   ]
  }
 ],
 "metadata": {
  "kernelspec": {
   "display_name": "Python 3 (ipykernel)",
   "language": "python",
   "name": "python3"
  },
  "language_info": {
   "codemirror_mode": {
    "name": "ipython",
    "version": 3
   },
   "file_extension": ".py",
   "mimetype": "text/x-python",
   "name": "python",
   "nbconvert_exporter": "python",
   "pygments_lexer": "ipython3",
   "version": "3.11.0"
  }
 },
 "nbformat": 4,
 "nbformat_minor": 5
}

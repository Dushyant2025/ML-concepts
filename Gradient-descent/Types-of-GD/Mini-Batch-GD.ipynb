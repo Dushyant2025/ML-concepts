{
 "cells": [
  {
   "cell_type": "code",
   "execution_count": null,
   "id": "d835b006-cbcb-47d8-9fe8-b5baccd2eb47",
   "metadata": {},
   "outputs": [],
   "source": [
    "What is Mini-Batch Gradient Descent?\n",
    "\n",
    "    Mini-Batch Gradient Descent is a hybrid between:\n",
    "    Batch Gradient Descent (BGD) — uses all data per update\n",
    "    Stochastic Gradient Descent (SGD) — uses one sample per update\n",
    "    In Mini-Batch GD, we update weights using a small batch of samples (say 32, 64, or 128) at a time.\n",
    "\n",
    "you update after a small batch"
   ]
  },
  {
   "cell_type": "code",
   "execution_count": 1,
   "id": "5261c15e-6523-4e75-8ebc-10d446c1636a",
   "metadata": {},
   "outputs": [],
   "source": [
    "\n",
    "from sklearn.datasets import load_diabetes\n",
    "\n",
    "import numpy as np\n",
    "from sklearn.linear_model import LinearRegression\n",
    "from sklearn.metrics import r2_score\n",
    "from sklearn.model_selection import train_test_split\n"
   ]
  },
  {
   "cell_type": "code",
   "execution_count": 2,
   "id": "0e8f4ccc-0edd-48e9-b62d-f15ad6f7f40f",
   "metadata": {},
   "outputs": [
    {
     "name": "stdout",
     "output_type": "stream",
     "text": [
      "(442, 10)\n",
      "(442,)\n"
     ]
    }
   ],
   "source": [
    "X,y = load_diabetes(return_X_y=True)\n",
    "print(X.shape)\n",
    "print(y.shape)\n"
   ]
  },
  {
   "cell_type": "code",
   "execution_count": 3,
   "id": "91c9e9f6-4312-4a62-be8d-5cd15a45bcf8",
   "metadata": {},
   "outputs": [
    {
     "name": "stdout",
     "output_type": "stream",
     "text": [
      "[  -9.15865318 -205.45432163  516.69374454  340.61999905 -895.5520019\n",
      "  561.22067904  153.89310954  126.73139688  861.12700152   52.42112238]\n",
      "151.88331005254167\n"
     ]
    }
   ],
   "source": [
    "X_train,X_test,y_train,y_test = train_test_split(X,y,test_size=0.2,random_state=2)\n",
    "reg = LinearRegression()\n",
    "reg.fit(X_train,y_train)\n",
    "LinearRegression()\n",
    "print(reg.coef_)\n",
    "print(reg.intercept_)"
   ]
  },
  {
   "cell_type": "code",
   "execution_count": 4,
   "id": "44293459-4303-4418-b4e7-b674f72f7422",
   "metadata": {},
   "outputs": [
    {
     "data": {
      "text/plain": [
       "0.4399338661568968"
      ]
     },
     "execution_count": 4,
     "metadata": {},
     "output_type": "execute_result"
    }
   ],
   "source": [
    "y_pred = reg.predict(X_test)\n",
    "r2_score(y_test,y_pred)\n"
   ]
  },
  {
   "cell_type": "code",
   "execution_count": 10,
   "id": "ff5e2429-2709-42ca-9909-9825d8c0ebbe",
   "metadata": {},
   "outputs": [],
   "source": [
    "import random\n",
    "\n",
    "class MBGDRegressor:\n",
    "    \n",
    "    def __init__(self,batch_size,learning_rate=0.01,epochs=100):\n",
    "        \n",
    "        self.coef_ = None\n",
    "        self.intercept_ = None\n",
    "        self.lr = learning_rate\n",
    "        self.epochs = epochs\n",
    "        self.batch_size = batch_size\n",
    "        \n",
    "    def fit(self,X_train,y_train):\n",
    "        # init your coefs\n",
    "        self.intercept_ = 0\n",
    "        self.coef_ = np.ones(X_train.shape[1])\n",
    "        \n",
    "        for i in range(self.epochs):\n",
    "            \n",
    "            for j in range(int(X_train.shape[0]/self.batch_size)):\n",
    "                \n",
    "                idx = random.sample(range(X_train.shape[0]),self.batch_size)\n",
    "                \n",
    "                y_hat = np.dot(X_train[idx],self.coef_) + self.intercept_\n",
    "                #print(\"Shape of y_hat\",y_hat.shape)\n",
    "                intercept_der = -2 * np.mean(y_train[idx] - y_hat)\n",
    "                self.intercept_ = self.intercept_ - (self.lr * intercept_der)\n",
    "\n",
    "                # coef_der = -2 * np.dot((y_train[idx] - y_hat),X_train[idx])\n",
    "                coef_der = (-2 / self.batch_size) * np.dot((y_train[idx] - y_hat), X_train[idx])\n",
    "\n",
    "                self.coef_ = self.coef_ - (self.lr * coef_der)\n",
    "        \n",
    "        print(self.intercept_,self.coef_)\n",
    "    \n",
    "    def predict(self,X_test):\n",
    "        return np.dot(X_test,self.coef_) + self.intercept_\n"
   ]
  },
  {
   "cell_type": "code",
   "execution_count": 11,
   "id": "8d3e70fb-0088-4048-91c4-c9c7910a99aa",
   "metadata": {},
   "outputs": [
    {
     "name": "stdout",
     "output_type": "stream",
     "text": [
      "155.70382541896493 [ 51.33197428  -1.26758321 163.18681687 126.66000852  42.21909919\n",
      "  26.08751459 -96.53801263  95.34284755 159.15524036  86.98863911]\n"
     ]
    },
    {
     "data": {
      "text/plain": [
       "0.3213812888501586"
      ]
     },
     "execution_count": 11,
     "metadata": {},
     "output_type": "execute_result"
    }
   ],
   "source": [
    "mbr = MBGDRegressor(batch_size=int(X_train.shape[0]/50),learning_rate=0.01,epochs=100)\n",
    "mbr.fit(X_train,y_train)\n",
    "\n",
    "y_pred = mbr.predict(X_test)\n",
    "r2_score(y_test,y_pred)\n",
    "\n"
   ]
  },
  {
   "cell_type": "code",
   "execution_count": 12,
   "id": "9b263d78-0505-423f-b39f-e158cd31b256",
   "metadata": {},
   "outputs": [
    {
     "data": {
      "text/plain": [
       "array([  38.00973945,  -78.84913603,  349.2081088 ,  219.9225299 ,\n",
       "         32.37124641,  -26.00691389, -160.98179744,  127.58418167,\n",
       "        327.80319994,  120.14340123])"
      ]
     },
     "execution_count": 12,
     "metadata": {},
     "output_type": "execute_result"
    }
   ],
   "source": [
    "from sklearn.linear_model import SGDRegressor\n",
    "sgd = SGDRegressor(learning_rate='constant',eta0=0.1)\n",
    "batch_size = 35\n",
    "\n",
    "for i in range(100):\n",
    "    \n",
    "    idx = random.sample(range(X_train.shape[0]),batch_size)\n",
    "    sgd.partial_fit(X_train[idx],y_train[idx])\n",
    "sgd.coef_\n",
    "\n",
    " "
   ]
  },
  {
   "cell_type": "code",
   "execution_count": 13,
   "id": "50efc633-1ba5-4d3a-a0ed-1e2a89aa32ff",
   "metadata": {},
   "outputs": [
    {
     "data": {
      "text/plain": [
       "array([155.0353734])"
      ]
     },
     "execution_count": 13,
     "metadata": {},
     "output_type": "execute_result"
    }
   ],
   "source": [
    "sgd.intercept_\n"
   ]
  },
  {
   "cell_type": "code",
   "execution_count": 14,
   "id": "be0f453d-f313-4919-bf32-7642acc6754e",
   "metadata": {},
   "outputs": [
    {
     "data": {
      "text/plain": [
       "0.4337258108698532"
      ]
     },
     "execution_count": 14,
     "metadata": {},
     "output_type": "execute_result"
    }
   ],
   "source": [
    "\n",
    "y_pred = sgd.predict(X_test)\n",
    "r2_score(y_test,y_pred)\n"
   ]
  },
  {
   "cell_type": "code",
   "execution_count": null,
   "id": "aa0bd761-4c25-49d8-9cfc-5c773c002457",
   "metadata": {},
   "outputs": [],
   "source": []
  }
 ],
 "metadata": {
  "kernelspec": {
   "display_name": "Python 3 (ipykernel)",
   "language": "python",
   "name": "python3"
  },
  "language_info": {
   "codemirror_mode": {
    "name": "ipython",
    "version": 3
   },
   "file_extension": ".py",
   "mimetype": "text/x-python",
   "name": "python",
   "nbconvert_exporter": "python",
   "pygments_lexer": "ipython3",
   "version": "3.11.0"
  }
 },
 "nbformat": 4,
 "nbformat_minor": 5
}
